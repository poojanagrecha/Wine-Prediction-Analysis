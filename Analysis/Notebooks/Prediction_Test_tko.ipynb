{
 "cells": [
  {
   "cell_type": "code",
   "execution_count": 1,
   "metadata": {},
   "outputs": [
    {
     "data": {
      "text/html": [
       "<style>.container { width:93% !important; }</style>"
      ],
      "text/plain": [
       "<IPython.core.display.HTML object>"
      ]
     },
     "metadata": {},
     "output_type": "display_data"
    },
    {
     "name": "stderr",
     "output_type": "stream",
     "text": [
      "C:\\Users\\DanMona\\anaconda3\\lib\\site-packages\\sklearn\\utils\\deprecation.py:143: FutureWarning: The sklearn.metrics.classification module is  deprecated in version 0.22 and will be removed in version 0.24. The corresponding classes / functions should instead be imported from sklearn.metrics. Anything that cannot be imported from sklearn.metrics is now part of the private API.\n",
      "  warnings.warn(message, FutureWarning)\n"
     ]
    }
   ],
   "source": [
    "from IPython.core.display import display, HTML\n",
    "display(HTML(\"<style>.container { width:93% !important; }</style>\"))\n",
    "\n",
    "# visualizations\n",
    "import matplotlib.pyplot as plt\n",
    "import seaborn as sn\n",
    "\n",
    "# machine learning\n",
    "from sklearn.linear_model import LogisticRegression\n",
    "from sklearn.neighbors import KNeighborsClassifier\n",
    "from sklearn.svm import SVC\n",
    "\n",
    "from sklearn.tree import DecisionTreeClassifier\n",
    "from sklearn.ensemble import BaggingClassifier\n",
    "from sklearn.ensemble import RandomForestClassifier\n",
    "from sklearn.ensemble import AdaBoostClassifier\n",
    "from sklearn.ensemble import GradientBoostingClassifier\n",
    "\n",
    "\n",
    "# machine learning processing\n",
    "from sklearn.model_selection import train_test_split\n",
    "from sklearn.preprocessing import StandardScaler\n",
    "import pickle\n",
    "from sklearn.preprocessing import LabelEncoder\n",
    "\n",
    "#import metrics\n",
    "import yellowbrick.classifier as ybc\n",
    "from sklearn.model_selection import StratifiedKFold\n",
    "from yellowbrick.model_selection import CVScores\n",
    "\n",
    "# from scikitplot.metrics import plot_roc, plot_confusion_matrix\n",
    "\n",
    "#basic imports\n",
    "import pandas as pd\n",
    "import numpy as np\n",
    "import os"
   ]
  },
  {
   "cell_type": "code",
   "execution_count": 4,
   "metadata": {},
   "outputs": [
    {
     "data": {
      "text/html": [
       "<div>\n",
       "<style scoped>\n",
       "    .dataframe tbody tr th:only-of-type {\n",
       "        vertical-align: middle;\n",
       "    }\n",
       "\n",
       "    .dataframe tbody tr th {\n",
       "        vertical-align: top;\n",
       "    }\n",
       "\n",
       "    .dataframe thead th {\n",
       "        text-align: right;\n",
       "    }\n",
       "</style>\n",
       "<table border=\"1\" class=\"dataframe\">\n",
       "  <thead>\n",
       "    <tr style=\"text-align: right;\">\n",
       "      <th></th>\n",
       "      <th>country</th>\n",
       "      <th>description</th>\n",
       "      <th>designation</th>\n",
       "      <th>points</th>\n",
       "      <th>price</th>\n",
       "      <th>province</th>\n",
       "      <th>region_1</th>\n",
       "      <th>region_2</th>\n",
       "      <th>variety</th>\n",
       "      <th>winery</th>\n",
       "      <th>Red?</th>\n",
       "      <th>wineType_encoded</th>\n",
       "      <th>Wine_Bins</th>\n",
       "      <th>price_label</th>\n",
       "      <th>country_label</th>\n",
       "      <th>variety_label</th>\n",
       "      <th>winery_label</th>\n",
       "      <th>designation_label</th>\n",
       "      <th>province_label</th>\n",
       "    </tr>\n",
       "  </thead>\n",
       "  <tbody>\n",
       "    <tr>\n",
       "      <th>0</th>\n",
       "      <td>US</td>\n",
       "      <td>This tremendous 100% varietal wine hails from ...</td>\n",
       "      <td>Martha's Vineyard</td>\n",
       "      <td>96</td>\n",
       "      <td>235.0</td>\n",
       "      <td>California</td>\n",
       "      <td>Napa Valley</td>\n",
       "      <td>Napa</td>\n",
       "      <td>Cabernet Sauvignon</td>\n",
       "      <td>Heitz</td>\n",
       "      <td>True</td>\n",
       "      <td>1</td>\n",
       "      <td>Iconic: Over $50</td>\n",
       "      <td>0</td>\n",
       "      <td>37</td>\n",
       "      <td>20</td>\n",
       "      <td>6559</td>\n",
       "      <td>15420</td>\n",
       "      <td>50</td>\n",
       "    </tr>\n",
       "    <tr>\n",
       "      <th>1</th>\n",
       "      <td>Spain</td>\n",
       "      <td>Ripe aromas of fig, blackberry and cassis are ...</td>\n",
       "      <td>Carodorum Selección Especial Reserva</td>\n",
       "      <td>96</td>\n",
       "      <td>110.0</td>\n",
       "      <td>Northern Spain</td>\n",
       "      <td>Toro</td>\n",
       "      <td>Toro</td>\n",
       "      <td>Tinta de Toro</td>\n",
       "      <td>Bodega Carmen Rodríguez</td>\n",
       "      <td>True</td>\n",
       "      <td>1</td>\n",
       "      <td>Iconic: Over $50</td>\n",
       "      <td>0</td>\n",
       "      <td>34</td>\n",
       "      <td>145</td>\n",
       "      <td>1164</td>\n",
       "      <td>3975</td>\n",
       "      <td>251</td>\n",
       "    </tr>\n",
       "    <tr>\n",
       "      <th>2</th>\n",
       "      <td>US</td>\n",
       "      <td>Mac Watson honors the memory of a wine once ma...</td>\n",
       "      <td>Special Selected Late Harvest</td>\n",
       "      <td>96</td>\n",
       "      <td>90.0</td>\n",
       "      <td>California</td>\n",
       "      <td>Knights Valley</td>\n",
       "      <td>Sonoma</td>\n",
       "      <td>Sauvignon Blanc</td>\n",
       "      <td>Macauley</td>\n",
       "      <td>False</td>\n",
       "      <td>0</td>\n",
       "      <td>Iconic: Over $50</td>\n",
       "      <td>0</td>\n",
       "      <td>37</td>\n",
       "      <td>123</td>\n",
       "      <td>8181</td>\n",
       "      <td>22767</td>\n",
       "      <td>50</td>\n",
       "    </tr>\n",
       "    <tr>\n",
       "      <th>3</th>\n",
       "      <td>US</td>\n",
       "      <td>This spent 20 months in 30% new French oak, an...</td>\n",
       "      <td>Reserve</td>\n",
       "      <td>96</td>\n",
       "      <td>65.0</td>\n",
       "      <td>Oregon</td>\n",
       "      <td>Willamette Valley</td>\n",
       "      <td>Willamette Valley</td>\n",
       "      <td>Pinot Noir</td>\n",
       "      <td>Ponzi</td>\n",
       "      <td>True</td>\n",
       "      <td>1</td>\n",
       "      <td>Iconic: Over $50</td>\n",
       "      <td>0</td>\n",
       "      <td>37</td>\n",
       "      <td>102</td>\n",
       "      <td>10039</td>\n",
       "      <td>19979</td>\n",
       "      <td>259</td>\n",
       "    </tr>\n",
       "    <tr>\n",
       "      <th>4</th>\n",
       "      <td>Spain</td>\n",
       "      <td>Deep, dense and pure from the opening bell, th...</td>\n",
       "      <td>Numanthia</td>\n",
       "      <td>95</td>\n",
       "      <td>73.0</td>\n",
       "      <td>Northern Spain</td>\n",
       "      <td>Toro</td>\n",
       "      <td>Toro</td>\n",
       "      <td>Tinta de Toro</td>\n",
       "      <td>Numanthia</td>\n",
       "      <td>True</td>\n",
       "      <td>1</td>\n",
       "      <td>Iconic: Over $50</td>\n",
       "      <td>0</td>\n",
       "      <td>34</td>\n",
       "      <td>145</td>\n",
       "      <td>9252</td>\n",
       "      <td>17071</td>\n",
       "      <td>251</td>\n",
       "    </tr>\n",
       "  </tbody>\n",
       "</table>\n",
       "</div>"
      ],
      "text/plain": [
       "  country                                        description  \\\n",
       "0      US  This tremendous 100% varietal wine hails from ...   \n",
       "1   Spain  Ripe aromas of fig, blackberry and cassis are ...   \n",
       "2      US  Mac Watson honors the memory of a wine once ma...   \n",
       "3      US  This spent 20 months in 30% new French oak, an...   \n",
       "4   Spain  Deep, dense and pure from the opening bell, th...   \n",
       "\n",
       "                            designation  points  price        province  \\\n",
       "0                     Martha's Vineyard      96  235.0      California   \n",
       "1  Carodorum Selección Especial Reserva      96  110.0  Northern Spain   \n",
       "2         Special Selected Late Harvest      96   90.0      California   \n",
       "3                               Reserve      96   65.0          Oregon   \n",
       "4                             Numanthia      95   73.0  Northern Spain   \n",
       "\n",
       "            region_1           region_2             variety  \\\n",
       "0        Napa Valley               Napa  Cabernet Sauvignon   \n",
       "1               Toro               Toro       Tinta de Toro   \n",
       "2     Knights Valley             Sonoma     Sauvignon Blanc   \n",
       "3  Willamette Valley  Willamette Valley          Pinot Noir   \n",
       "4               Toro               Toro       Tinta de Toro   \n",
       "\n",
       "                    winery   Red?  wineType_encoded         Wine_Bins  \\\n",
       "0                    Heitz   True                 1  Iconic: Over $50   \n",
       "1  Bodega Carmen Rodríguez   True                 1  Iconic: Over $50   \n",
       "2                 Macauley  False                 0  Iconic: Over $50   \n",
       "3                    Ponzi   True                 1  Iconic: Over $50   \n",
       "4                Numanthia   True                 1  Iconic: Over $50   \n",
       "\n",
       "   price_label  country_label  variety_label  winery_label  designation_label  \\\n",
       "0            0             37             20          6559              15420   \n",
       "1            0             34            145          1164               3975   \n",
       "2            0             37            123          8181              22767   \n",
       "3            0             37            102         10039              19979   \n",
       "4            0             34            145          9252              17071   \n",
       "\n",
       "   province_label  \n",
       "0              50  \n",
       "1             251  \n",
       "2              50  \n",
       "3             259  \n",
       "4             251  "
      ]
     },
     "execution_count": 4,
     "metadata": {},
     "output_type": "execute_result"
    }
   ],
   "source": [
    "file = \"../data/Clean_Wine_Data2.csv\"\n",
    "df = pd.read_csv(file).drop(\"Unnamed: 0\", axis=1)\n",
    "labelencoder = LabelEncoder()\n",
    "# Assigning numerical values and storing in another column\n",
    "df['price_label'] = labelencoder.fit_transform(df['Wine_Bins'])\n",
    "df['country_label'] = labelencoder.fit_transform(df['country'])\n",
    "df['variety_label'] = labelencoder.fit_transform(df['variety'])\n",
    "df['winery_label'] = labelencoder.fit_transform(df['winery'])\n",
    "df['designation_label'] = labelencoder.fit_transform(df['designation'])\n",
    "df['province_label'] = labelencoder.fit_transform(df['province'])\n",
    "df.head()"
   ]
  },
  {
   "cell_type": "code",
   "execution_count": 5,
   "metadata": {},
   "outputs": [
    {
     "data": {
      "text/html": [
       "<div>\n",
       "<style scoped>\n",
       "    .dataframe tbody tr th:only-of-type {\n",
       "        vertical-align: middle;\n",
       "    }\n",
       "\n",
       "    .dataframe tbody tr th {\n",
       "        vertical-align: top;\n",
       "    }\n",
       "\n",
       "    .dataframe thead th {\n",
       "        text-align: right;\n",
       "    }\n",
       "</style>\n",
       "<table border=\"1\" class=\"dataframe\">\n",
       "  <thead>\n",
       "    <tr style=\"text-align: right;\">\n",
       "      <th></th>\n",
       "      <th>price_label</th>\n",
       "    </tr>\n",
       "    <tr>\n",
       "      <th>Wine_Bins</th>\n",
       "      <th></th>\n",
       "    </tr>\n",
       "  </thead>\n",
       "  <tbody>\n",
       "    <tr>\n",
       "      <th>Iconic: Over $50</th>\n",
       "      <td>0</td>\n",
       "    </tr>\n",
       "    <tr>\n",
       "      <th>Popular: $10-15</th>\n",
       "      <td>1</td>\n",
       "    </tr>\n",
       "    <tr>\n",
       "      <th>Premium: $15-20</th>\n",
       "      <td>2</td>\n",
       "    </tr>\n",
       "    <tr>\n",
       "      <th>Super Premium: $20-30</th>\n",
       "      <td>3</td>\n",
       "    </tr>\n",
       "    <tr>\n",
       "      <th>Ultra Premium: $30-50</th>\n",
       "      <td>4</td>\n",
       "    </tr>\n",
       "    <tr>\n",
       "      <th>Value: Under $10</th>\n",
       "      <td>5</td>\n",
       "    </tr>\n",
       "  </tbody>\n",
       "</table>\n",
       "</div>"
      ],
      "text/plain": [
       "                       price_label\n",
       "Wine_Bins                         \n",
       "Iconic: Over $50                 0\n",
       "Popular: $10-15                  1\n",
       "Premium: $15-20                  2\n",
       "Super Premium: $20-30            3\n",
       "Ultra Premium: $30-50            4\n",
       "Value: Under $10                 5"
      ]
     },
     "execution_count": 5,
     "metadata": {},
     "output_type": "execute_result"
    }
   ],
   "source": [
    "wine_lookup = df[[\"price_label\",\"Wine_Bins\"]].groupby(\"Wine_Bins\").mean()\n",
    "wine_lookup"
   ]
  },
  {
   "cell_type": "markdown",
   "metadata": {},
   "source": [
    "#### Found a random wine on Wine Enthusiast Magazine's website - now need to look up encoding values (Bryn Mawr Vineyards 2019 Estate Riesling (Eola-Amity Hills)) - mid priced"
   ]
  },
  {
   "cell_type": "code",
   "execution_count": 6,
   "metadata": {},
   "outputs": [
    {
     "data": {
      "text/plain": [
       "37.0"
      ]
     },
     "execution_count": 6,
     "metadata": {},
     "output_type": "execute_result"
    }
   ],
   "source": [
    "country_lookup = df.loc[df.country == \"US\"].country_label.mean()\n",
    "country_lookup"
   ]
  },
  {
   "cell_type": "code",
   "execution_count": 7,
   "metadata": {},
   "outputs": [
    {
     "data": {
      "text/plain": [
       "115.0"
      ]
     },
     "execution_count": 7,
     "metadata": {},
     "output_type": "execute_result"
    }
   ],
   "source": [
    "variety_lookup = df.loc[df.variety == \"Riesling\"].variety_label.mean()\n",
    "variety_lookup"
   ]
  },
  {
   "cell_type": "code",
   "execution_count": 8,
   "metadata": {},
   "outputs": [
    {
     "data": {
      "text/plain": [
       "1562.0"
      ]
     },
     "execution_count": 8,
     "metadata": {},
     "output_type": "execute_result"
    }
   ],
   "source": [
    "winery_lookup = df.loc[df.winery == \"Bryn Mawr Vineyards\"].winery_label.mean()\n",
    "winery_lookup"
   ]
  },
  {
   "cell_type": "code",
   "execution_count": 9,
   "metadata": {},
   "outputs": [
    {
     "data": {
      "text/plain": [
       "8487.0"
      ]
     },
     "execution_count": 9,
     "metadata": {},
     "output_type": "execute_result"
    }
   ],
   "source": [
    "designation_lookup = df.loc[df.designation == \"Estate\"].designation_label.mean()\n",
    "designation_lookup"
   ]
  },
  {
   "cell_type": "code",
   "execution_count": 10,
   "metadata": {},
   "outputs": [
    {
     "data": {
      "text/plain": [
       "259.0"
      ]
     },
     "execution_count": 10,
     "metadata": {},
     "output_type": "execute_result"
    }
   ],
   "source": [
    "province_lookup = df.loc[df.province == \"Oregon\"].province_label.mean()\n",
    "province_lookup"
   ]
  },
  {
   "cell_type": "code",
   "execution_count": 11,
   "metadata": {},
   "outputs": [],
   "source": [
    "data_test = np.array([0,country_lookup,variety_lookup,winery_lookup,designation_lookup,province_lookup]).reshape(1, -1)"
   ]
  },
  {
   "cell_type": "code",
   "execution_count": 16,
   "metadata": {},
   "outputs": [
    {
     "name": "stderr",
     "output_type": "stream",
     "text": [
      "C:\\Users\\DanMona\\anaconda3\\lib\\site-packages\\sklearn\\base.py:334: UserWarning: Trying to unpickle estimator DecisionTreeClassifier from version 0.22.1 when using version 0.23.1. This might lead to breaking code or invalid results. Use at your own risk.\n",
      "  UserWarning)\n",
      "C:\\Users\\DanMona\\anaconda3\\lib\\site-packages\\sklearn\\base.py:334: UserWarning: Trying to unpickle estimator BaggingClassifier from version 0.22.1 when using version 0.23.1. This might lead to breaking code or invalid results. Use at your own risk.\n",
      "  UserWarning)\n"
     ]
    }
   ],
   "source": [
    "loaded_scaler = pickle.load(open('../models/finalized_scaler.sav', 'rb'))\n",
    "loaded_model = pickle.load(open('../models/finalized_model.sav', 'rb'))"
   ]
  },
  {
   "cell_type": "code",
   "execution_count": 17,
   "metadata": {},
   "outputs": [
    {
     "data": {
      "text/plain": [
       "2"
      ]
     },
     "execution_count": 17,
     "metadata": {},
     "output_type": "execute_result"
    }
   ],
   "source": [
    "newData_scaled = loaded_scaler.transform(data_test)\n",
    "value_test = loaded_model.predict(newData_scaled)\n",
    "predict_num = value_test[0]\n",
    "predict_num"
   ]
  },
  {
   "cell_type": "code",
   "execution_count": 18,
   "metadata": {},
   "outputs": [
    {
     "name": "stdout",
     "output_type": "stream",
     "text": [
      "[[   0.   37.  115. 1562. 8487.  259.]]\n"
     ]
    }
   ],
   "source": [
    "print(data_test)"
   ]
  },
  {
   "cell_type": "code",
   "execution_count": null,
   "metadata": {},
   "outputs": [],
   "source": [
    "outcome = wine_lookup.loc[wine_lookup.price_label == predict_num].index[0]\n",
    "outcome"
   ]
  },
  {
   "cell_type": "code",
   "execution_count": null,
   "metadata": {},
   "outputs": [],
   "source": [
    "probs_test = loaded_model.predict_proba(newData_scaled)\n",
    "probs_test"
   ]
  },
  {
   "cell_type": "code",
   "execution_count": null,
   "metadata": {},
   "outputs": [],
   "source": [
    "wines2 = wine_lookup.copy().drop(columns = ['price_label'])\n",
    "wines2['Probabilities'] = probs_test[0]\n",
    "wines2"
   ]
  },
  {
   "cell_type": "markdown",
   "metadata": {},
   "source": [
    "#### Actual price is 25 dollars so not too bad"
   ]
  },
  {
   "cell_type": "markdown",
   "metadata": {},
   "source": [
    "### Another One - let's try Barefoot! Barefoot NV Pinot Noir (California)"
   ]
  },
  {
   "cell_type": "code",
   "execution_count": null,
   "metadata": {},
   "outputs": [],
   "source": [
    "country_lookup = df.loc[df.country == \"US\"].country_label.mean()\n",
    "country_lookup"
   ]
  },
  {
   "cell_type": "code",
   "execution_count": null,
   "metadata": {},
   "outputs": [],
   "source": [
    "variety_lookup = df.loc[df.variety == \"Pinot Noir\"].variety_label.mean()\n",
    "variety_lookup"
   ]
  },
  {
   "cell_type": "code",
   "execution_count": null,
   "metadata": {},
   "outputs": [],
   "source": [
    "winery_lookup = df.loc[df.winery == \"Barefoot\"].winery_label.mean()\n",
    "winery_lookup"
   ]
  },
  {
   "cell_type": "code",
   "execution_count": null,
   "metadata": {},
   "outputs": [],
   "source": [
    "df.designation.value_counts()"
   ]
  },
  {
   "cell_type": "code",
   "execution_count": null,
   "metadata": {},
   "outputs": [],
   "source": [
    "designation_lookup = df.loc[df.designation == \"*Unknown Wine*\"].designation_label.mean()\n",
    "designation_lookup"
   ]
  },
  {
   "cell_type": "code",
   "execution_count": null,
   "metadata": {},
   "outputs": [],
   "source": [
    "province_lookup = df.loc[df.province == \"California\"].province_label.mean()\n",
    "province_lookup"
   ]
  },
  {
   "cell_type": "code",
   "execution_count": null,
   "metadata": {},
   "outputs": [],
   "source": [
    "data_test = np.array([1,country_lookup,variety_lookup,winery_lookup,designation_lookup,province_lookup]).reshape(1, -1)\n",
    "newData_scaled = loaded_scaler.transform(data_test)\n",
    "value_test = loaded_model.predict(newData_scaled)\n",
    "predict_num = value_test[0]\n",
    "outcome = wine_lookup.loc[wine_lookup.price_label == predict_num].index[0]\n",
    "outcome"
   ]
  },
  {
   "cell_type": "code",
   "execution_count": null,
   "metadata": {},
   "outputs": [],
   "source": [
    "probs_test = loaded_model.predict_proba(newData_scaled)\n",
    "wines2 = wine_lookup.copy().drop(columns = ['price_label'])\n",
    "wines2['Probabilities'] = probs_test[0]\n",
    "wines2"
   ]
  },
  {
   "cell_type": "markdown",
   "metadata": {},
   "source": [
    "## Try Another One? - Arpepe 2009 Sassella Rocce Rosse (Valtellina Superiore)"
   ]
  },
  {
   "cell_type": "code",
   "execution_count": null,
   "metadata": {},
   "outputs": [],
   "source": [
    "country_lookup = df.loc[df.country == \"Italy\"].country_label.mean()\n",
    "country_lookup"
   ]
  },
  {
   "cell_type": "code",
   "execution_count": null,
   "metadata": {},
   "outputs": [],
   "source": [
    "variety_lookup = df.loc[df.variety == \"Nebbiolo\"].variety_label.mean()\n",
    "variety_lookup"
   ]
  },
  {
   "cell_type": "code",
   "execution_count": null,
   "metadata": {},
   "outputs": [],
   "source": [
    "df.loc[df.variety == \"Nebbiolo\"].winery_label.value_counts()"
   ]
  },
  {
   "cell_type": "code",
   "execution_count": null,
   "metadata": {},
   "outputs": [],
   "source": [
    "winery_lookup = 2333"
   ]
  },
  {
   "cell_type": "code",
   "execution_count": null,
   "metadata": {},
   "outputs": [],
   "source": [
    "designation_lookup = df.loc[df.designation == \"*Unknown Wine*\"].designation_label.mean()\n",
    "designation_lookup"
   ]
  },
  {
   "cell_type": "code",
   "execution_count": null,
   "metadata": {},
   "outputs": [],
   "source": [
    "province_lookup = df.loc[df.province == \"Lombardy\"].province_label.mean()\n",
    "province_lookup"
   ]
  },
  {
   "cell_type": "code",
   "execution_count": null,
   "metadata": {},
   "outputs": [],
   "source": [
    "data_test = np.array([1,country_lookup,variety_lookup,winery_lookup,designation_lookup,province_lookup]).reshape(1, -1)\n",
    "newData_scaled = loaded_scaler.transform(data_test)\n",
    "value_test = loaded_model.predict(newData_scaled)\n",
    "predict_num = value_test[0]\n",
    "outcome = wine_lookup.loc[wine_lookup.price_label == predict_num].index[0]\n",
    "outcome"
   ]
  },
  {
   "cell_type": "code",
   "execution_count": null,
   "metadata": {},
   "outputs": [],
   "source": [
    "probs_test = loaded_model.predict_proba(newData_scaled)\n",
    "wines2 = wine_lookup.copy().drop(columns = ['price_label'])\n",
    "wines2['Probabilities'] = probs_test[0]\n",
    "wines2"
   ]
  },
  {
   "cell_type": "code",
   "execution_count": 20,
   "metadata": {},
   "outputs": [],
   "source": [
    "wine_lookup.to_csv(\"../data/wine_lookup.csv\")"
   ]
  }
 ],
 "metadata": {
  "kernelspec": {
   "display_name": "Python 3",
   "language": "python",
   "name": "python3"
  },
  "language_info": {
   "codemirror_mode": {
    "name": "ipython",
    "version": 3
   },
   "file_extension": ".py",
   "mimetype": "text/x-python",
   "name": "python",
   "nbconvert_exporter": "python",
   "pygments_lexer": "ipython3",
   "version": "3.7.7"
  }
 },
 "nbformat": 4,
 "nbformat_minor": 4
}
