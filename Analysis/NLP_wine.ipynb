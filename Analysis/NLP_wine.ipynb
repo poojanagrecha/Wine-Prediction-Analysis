{
 "cells": [
  {
   "cell_type": "code",
   "execution_count": 4,
   "metadata": {},
   "outputs": [],
   "source": [
    "import pandas as pd\n",
    "import numpy as np\n",
    "import matplotlib.pyplot as plt\n",
    "from nltk.tokenize import word_tokenize\n",
    "from nltk.tokenize import sent_tokenize\n",
    "from nltk.probability import FreqDist\n",
    "from nltk.corpus import stopwords\n",
    "from nltk.stem import PorterStemmer\n",
    "from nltk.stem.wordnet import WordNetLemmatizer\n",
    "from sklearn.feature_extraction.text import CountVectorizer, TfidfVectorizer\n",
    "from sklearn.model_selection import train_test_split\n",
    "from catboost import Pool, CatBoostRegressor, cv\n",
    "from sklearn.metrics.pairwise import cosine_similarity"
   ]
  },
  {
   "cell_type": "code",
   "execution_count": 5,
   "metadata": {},
   "outputs": [
    {
     "data": {
      "text/html": [
       "<div>\n",
       "<style scoped>\n",
       "    .dataframe tbody tr th:only-of-type {\n",
       "        vertical-align: middle;\n",
       "    }\n",
       "\n",
       "    .dataframe tbody tr th {\n",
       "        vertical-align: top;\n",
       "    }\n",
       "\n",
       "    .dataframe thead th {\n",
       "        text-align: right;\n",
       "    }\n",
       "</style>\n",
       "<table border=\"1\" class=\"dataframe\">\n",
       "  <thead>\n",
       "    <tr style=\"text-align: right;\">\n",
       "      <th></th>\n",
       "      <th>Unnamed: 0</th>\n",
       "      <th>country</th>\n",
       "      <th>description</th>\n",
       "      <th>designation</th>\n",
       "      <th>points</th>\n",
       "      <th>price</th>\n",
       "      <th>province</th>\n",
       "      <th>region_1</th>\n",
       "      <th>region_2</th>\n",
       "      <th>variety</th>\n",
       "      <th>winery</th>\n",
       "      <th>Red?</th>\n",
       "      <th>wineType_encoded</th>\n",
       "      <th>Wine_Bins</th>\n",
       "    </tr>\n",
       "  </thead>\n",
       "  <tbody>\n",
       "    <tr>\n",
       "      <td>0</td>\n",
       "      <td>0</td>\n",
       "      <td>US</td>\n",
       "      <td>This tremendous 100% varietal wine hails from ...</td>\n",
       "      <td>Martha's Vineyard</td>\n",
       "      <td>96</td>\n",
       "      <td>235.0</td>\n",
       "      <td>California</td>\n",
       "      <td>Napa Valley</td>\n",
       "      <td>Napa</td>\n",
       "      <td>Cabernet Sauvignon</td>\n",
       "      <td>Heitz</td>\n",
       "      <td>True</td>\n",
       "      <td>1</td>\n",
       "      <td>Connoisseur: Over $100</td>\n",
       "    </tr>\n",
       "    <tr>\n",
       "      <td>1</td>\n",
       "      <td>1</td>\n",
       "      <td>Spain</td>\n",
       "      <td>Ripe aromas of fig, blackberry and cassis are ...</td>\n",
       "      <td>Carodorum Selección Especial Reserva</td>\n",
       "      <td>96</td>\n",
       "      <td>110.0</td>\n",
       "      <td>Northern Spain</td>\n",
       "      <td>Toro</td>\n",
       "      <td>Toro</td>\n",
       "      <td>Tinta de Toro</td>\n",
       "      <td>Bodega Carmen Rodríguez</td>\n",
       "      <td>True</td>\n",
       "      <td>1</td>\n",
       "      <td>Connoisseur: Over $100</td>\n",
       "    </tr>\n",
       "    <tr>\n",
       "      <td>2</td>\n",
       "      <td>2</td>\n",
       "      <td>US</td>\n",
       "      <td>Mac Watson honors the memory of a wine once ma...</td>\n",
       "      <td>Special Selected Late Harvest</td>\n",
       "      <td>96</td>\n",
       "      <td>90.0</td>\n",
       "      <td>California</td>\n",
       "      <td>Knights Valley</td>\n",
       "      <td>Sonoma</td>\n",
       "      <td>Sauvignon Blanc</td>\n",
       "      <td>Macauley</td>\n",
       "      <td>False</td>\n",
       "      <td>0</td>\n",
       "      <td>Enthusiast: $50-100</td>\n",
       "    </tr>\n",
       "    <tr>\n",
       "      <td>3</td>\n",
       "      <td>3</td>\n",
       "      <td>US</td>\n",
       "      <td>This spent 20 months in 30% new French oak, an...</td>\n",
       "      <td>Reserve</td>\n",
       "      <td>96</td>\n",
       "      <td>65.0</td>\n",
       "      <td>Oregon</td>\n",
       "      <td>Willamette Valley</td>\n",
       "      <td>Willamette Valley</td>\n",
       "      <td>Pinot Noir</td>\n",
       "      <td>Ponzi</td>\n",
       "      <td>True</td>\n",
       "      <td>1</td>\n",
       "      <td>Enthusiast: $50-100</td>\n",
       "    </tr>\n",
       "    <tr>\n",
       "      <td>4</td>\n",
       "      <td>4</td>\n",
       "      <td>Spain</td>\n",
       "      <td>Deep, dense and pure from the opening bell, th...</td>\n",
       "      <td>Numanthia</td>\n",
       "      <td>95</td>\n",
       "      <td>73.0</td>\n",
       "      <td>Northern Spain</td>\n",
       "      <td>Toro</td>\n",
       "      <td>Toro</td>\n",
       "      <td>Tinta de Toro</td>\n",
       "      <td>Numanthia</td>\n",
       "      <td>True</td>\n",
       "      <td>1</td>\n",
       "      <td>Enthusiast: $50-100</td>\n",
       "    </tr>\n",
       "  </tbody>\n",
       "</table>\n",
       "</div>"
      ],
      "text/plain": [
       "   Unnamed: 0 country                                        description  \\\n",
       "0           0      US  This tremendous 100% varietal wine hails from ...   \n",
       "1           1   Spain  Ripe aromas of fig, blackberry and cassis are ...   \n",
       "2           2      US  Mac Watson honors the memory of a wine once ma...   \n",
       "3           3      US  This spent 20 months in 30% new French oak, an...   \n",
       "4           4   Spain  Deep, dense and pure from the opening bell, th...   \n",
       "\n",
       "                            designation  points  price        province  \\\n",
       "0                     Martha's Vineyard      96  235.0      California   \n",
       "1  Carodorum Selección Especial Reserva      96  110.0  Northern Spain   \n",
       "2         Special Selected Late Harvest      96   90.0      California   \n",
       "3                               Reserve      96   65.0          Oregon   \n",
       "4                             Numanthia      95   73.0  Northern Spain   \n",
       "\n",
       "            region_1           region_2             variety  \\\n",
       "0        Napa Valley               Napa  Cabernet Sauvignon   \n",
       "1               Toro               Toro       Tinta de Toro   \n",
       "2     Knights Valley             Sonoma     Sauvignon Blanc   \n",
       "3  Willamette Valley  Willamette Valley          Pinot Noir   \n",
       "4               Toro               Toro       Tinta de Toro   \n",
       "\n",
       "                    winery   Red?  wineType_encoded               Wine_Bins  \n",
       "0                    Heitz   True                 1  Connoisseur: Over $100  \n",
       "1  Bodega Carmen Rodríguez   True                 1  Connoisseur: Over $100  \n",
       "2                 Macauley  False                 0     Enthusiast: $50-100  \n",
       "3                    Ponzi   True                 1     Enthusiast: $50-100  \n",
       "4                Numanthia   True                 1     Enthusiast: $50-100  "
      ]
     },
     "execution_count": 5,
     "metadata": {},
     "output_type": "execute_result"
    }
   ],
   "source": [
    "data = pd.read_csv(\"Data/Clean_Wine_Data.csv\")\n",
    "data.head()"
   ]
  },
  {
   "cell_type": "code",
   "execution_count": 6,
   "metadata": {
    "scrolled": false
   },
   "outputs": [],
   "source": [
    "with open('Data/wine_reviews.txt', 'r') as file:\n",
    "    text = file.read().replace('\\n', '')\n",
    "#     print(text)\n",
    "    tokenized_text=sent_tokenize(text)\n",
    "#     print(tokenized_text)"
   ]
  },
  {
   "cell_type": "markdown",
   "metadata": {},
   "source": [
    "# Word Cleaning"
   ]
  },
  {
   "cell_type": "code",
   "execution_count": 7,
   "metadata": {},
   "outputs": [],
   "source": [
    "import string"
   ]
  },
  {
   "cell_type": "code",
   "execution_count": 8,
   "metadata": {},
   "outputs": [],
   "source": [
    "    def clean_text(text):\n",
    "        return text.translate(str.maketrans('', '', string.punctuation)).lower()\n",
    "\n",
    "    cleanText = clean_text(text)"
   ]
  },
  {
   "cell_type": "code",
   "execution_count": 9,
   "metadata": {},
   "outputs": [],
   "source": [
    "    tokenized_word=word_tokenize(cleanText)"
   ]
  },
  {
   "cell_type": "code",
   "execution_count": 10,
   "metadata": {},
   "outputs": [
    {
     "name": "stdout",
     "output_type": "stream",
     "text": [
      "<FreqDist with 87244 samples and 5322402 outcomes>\n"
     ]
    }
   ],
   "source": [
    "    fdist = FreqDist(tokenized_word)\n",
    "    print(fdist)"
   ]
  },
  {
   "cell_type": "code",
   "execution_count": 11,
   "metadata": {},
   "outputs": [
    {
     "data": {
      "text/plain": [
       "[('and', 367938),\n",
       " ('the', 224632),\n",
       " ('a', 175292),\n",
       " ('of', 164783),\n",
       " ('with', 134993),\n",
       " ('is', 96831),\n",
       " ('this', 75037),\n",
       " ('wine', 71323),\n",
       " ('flavors', 69602),\n",
       " ('in', 68131)]"
      ]
     },
     "execution_count": 11,
     "metadata": {},
     "output_type": "execute_result"
    }
   ],
   "source": [
    "    fdist.most_common(10)"
   ]
  },
  {
   "cell_type": "code",
   "execution_count": 12,
   "metadata": {},
   "outputs": [
    {
     "data": {
      "image/png": "[encoded data removed]",
      "text/plain": [
       "<Figure size 432x288 with 1 Axes>"
      ]
     },
     "metadata": {
      "needs_background": "light"
     },
     "output_type": "display_data"
    }
   ],
   "source": [
    "    # Frequency Distribution Plot\n",
    "    fdist.plot(40,cumulative=False)\n",
    "    plt.show()"
   ]
  },
  {
   "cell_type": "markdown",
   "metadata": {},
   "source": [
    "# stopwords"
   ]
  },
  {
   "cell_type": "code",
   "execution_count": 13,
   "metadata": {},
   "outputs": [],
   "source": [
    "    stop_words=set(stopwords.words(\"english\"))\n",
    "#     print(stop_words)"
   ]
  },
  {
   "cell_type": "code",
   "execution_count": 14,
   "metadata": {},
   "outputs": [
    {
     "name": "stdout",
     "output_type": "stream",
     "text": [
      "The number of stop words provided by NLTK is: 179\n"
     ]
    }
   ],
   "source": [
    "    print(\"The number of stop words provided by NLTK is: \" + str(len(stop_words)))"
   ]
  },
  {
   "cell_type": "code",
   "execution_count": 15,
   "metadata": {},
   "outputs": [],
   "source": [
    "    filtered_sent=[]\n",
    "    for w in tokenized_word:\n",
    "        if w not in stop_words:\n",
    "#             print(w)\n",
    "            filtered_sent.append(w)\n",
    "#     print(\"Tokenized Text:\",tokenized_word)\n",
    "#     print(\"\\n\")\n",
    "#     print(\"Filterd Text:\",filtered_sent)\n",
    "    "
   ]
  },
  {
   "cell_type": "code",
   "execution_count": 16,
   "metadata": {},
   "outputs": [],
   "source": [
    "import re\n",
    "import nltk"
   ]
  },
  {
   "cell_type": "code",
   "execution_count": 17,
   "metadata": {},
   "outputs": [
    {
     "data": {
      "text/plain": [
       "[('wine', 77616),\n",
       " ('flavor', 75335),\n",
       " ('fruit', 57651),\n",
       " ('cherry', 35421),\n",
       " ('aroma', 31356),\n",
       " ('finish', 29844),\n",
       " ('tannin', 26806),\n",
       " ('palate', 26471),\n",
       " ('acidity', 25082),\n",
       " ('spice', 21881)]"
      ]
     },
     "execution_count": 17,
     "metadata": {},
     "output_type": "execute_result"
    }
   ],
   "source": [
    "    # Regex for only english terms (with dots)\n",
    "    ENGLISH_RE = re.compile(r'[a-z]+')\n",
    "    lmtzr = nltk.WordNetLemmatizer()\n",
    "\n",
    "    lemmatized = []\n",
    "    for word in tokenized_word:\n",
    "        w = word.lower()\n",
    "        # Check english terms\n",
    "        if not ENGLISH_RE.match(w):\n",
    "            continue\n",
    "        # Check stopwords\n",
    "        if w in stop_words:\n",
    "            continue\n",
    "        lemmatized.append(lmtzr.lemmatize(w))\n",
    "    \n",
    "    fdist1 = nltk.FreqDist(lemmatized)\n",
    "    fdist1.most_common(10)"
   ]
  },
  {
   "cell_type": "code",
   "execution_count": 18,
   "metadata": {},
   "outputs": [],
   "source": [
    "# lemmatized"
   ]
  },
  {
   "cell_type": "code",
   "execution_count": 19,
   "metadata": {},
   "outputs": [],
   "source": [
    "    wpt = nltk.WordPunctTokenizer()\n",
    "    def normalize_document(doc):\n",
    "        # lower case and remove special characters\\whitespaces\n",
    "        doc = re.sub(r'[^a-zA-Z\\s]', '', doc, re.I|re.A)\n",
    "        doc = doc.lower()\n",
    "        doc = doc.strip()\n",
    "        # tokenize document\n",
    "        tokens = wpt.tokenize(doc)\n",
    "        # filter stopwords out of document\n",
    "        filtered_tokens = [token for token in tokens if token not in stop_words]\n",
    "        # re-create document from filtered tokens\n",
    "        doc = ' '.join(filtered_tokens)\n",
    "        return doc\n",
    "\n",
    "    normalize_corpus = np.vectorize(normalize_document)"
   ]
  },
  {
   "cell_type": "code",
   "execution_count": 20,
   "metadata": {},
   "outputs": [
    {
     "data": {
      "text/plain": [
       "array(['tremendous varietal wine hails oakville aged three years oak',\n",
       "       'juicy redcherry fruit compelling hint caramel greet palate framed elegant fine tannins subtle minty tone background',\n",
       "       'balanced rewarding start finish years ahead develop nuance', ...,\n",
       "       'rich pearlike nose followed crisp acidity medium body viscous mouthfeel',\n",
       "       'finish long redolent pears citrus', ''], dtype='<U688')"
      ]
     },
     "execution_count": 20,
     "metadata": {},
     "output_type": "execute_result"
    }
   ],
   "source": [
    "    norm_corpus = normalize_corpus(tokenized_text)\n",
    "    norm_corpus"
   ]
  },
  {
   "cell_type": "code",
   "execution_count": 21,
   "metadata": {},
   "outputs": [
    {
     "data": {
      "text/plain": [
       "array([[0, 0, 0, ..., 0, 0, 0],\n",
       "       [0, 0, 0, ..., 0, 0, 0],\n",
       "       [0, 0, 0, ..., 0, 0, 0],\n",
       "       ...,\n",
       "       [0, 0, 0, ..., 0, 0, 0],\n",
       "       [0, 0, 0, ..., 0, 0, 0],\n",
       "       [0, 0, 0, ..., 0, 0, 0]])"
      ]
     },
     "execution_count": 21,
     "metadata": {},
     "output_type": "execute_result"
    }
   ],
   "source": [
    "    cv = CountVectorizer(min_df=0., max_df=1.)\n",
    "    cv_matrix = cv.fit_transform(norm_corpus)\n",
    "    cv_matrix = cv_matrix.toarray()\n",
    "    cv_matrix"
   ]
  },
  {
   "cell_type": "code",
   "execution_count": 22,
   "metadata": {},
   "outputs": [
    {
     "data": {
      "text/html": [
       "<div>\n",
       "<style scoped>\n",
       "    .dataframe tbody tr th:only-of-type {\n",
       "        vertical-align: middle;\n",
       "    }\n",
       "\n",
       "    .dataframe tbody tr th {\n",
       "        vertical-align: top;\n",
       "    }\n",
       "\n",
       "    .dataframe thead th {\n",
       "        text-align: right;\n",
       "    }\n",
       "</style>\n",
       "<table border=\"1\" class=\"dataframe\">\n",
       "  <thead>\n",
       "    <tr style=\"text-align: right;\">\n",
       "      <th></th>\n",
       "      <th>aah sheer</th>\n",
       "      <th>aand focus</th>\n",
       "      <th>aand sugars</th>\n",
       "      <th>aaron pott</th>\n",
       "      <th>abacela continues</th>\n",
       "      <th>abacela crafted</th>\n",
       "      <th>abacela evoke</th>\n",
       "      <th>abacela showcases</th>\n",
       "      <th>abacela vineyards</th>\n",
       "      <th>abacela wines</th>\n",
       "      <th>...</th>\n",
       "      <th>zweigelt touched</th>\n",
       "      <th>zweigelt varietal</th>\n",
       "      <th>zweigelt vinified</th>\n",
       "      <th>zweigelt white</th>\n",
       "      <th>zweigelt wine</th>\n",
       "      <th>zweigelt works</th>\n",
       "      <th>zweigeltan excellent</th>\n",
       "      <th>zweigelts juiciness</th>\n",
       "      <th>zweigelts pepperiness</th>\n",
       "      <th>zwiegelt cabernet</th>\n",
       "    </tr>\n",
       "  </thead>\n",
       "  <tbody>\n",
       "    <tr>\n",
       "      <td>0</td>\n",
       "      <td>0</td>\n",
       "      <td>0</td>\n",
       "      <td>0</td>\n",
       "      <td>0</td>\n",
       "      <td>0</td>\n",
       "      <td>0</td>\n",
       "      <td>0</td>\n",
       "      <td>0</td>\n",
       "      <td>0</td>\n",
       "      <td>0</td>\n",
       "      <td>...</td>\n",
       "      <td>0</td>\n",
       "      <td>0</td>\n",
       "      <td>0</td>\n",
       "      <td>0</td>\n",
       "      <td>0</td>\n",
       "      <td>0</td>\n",
       "      <td>0</td>\n",
       "      <td>0</td>\n",
       "      <td>0</td>\n",
       "      <td>0</td>\n",
       "    </tr>\n",
       "    <tr>\n",
       "      <td>1</td>\n",
       "      <td>0</td>\n",
       "      <td>0</td>\n",
       "      <td>0</td>\n",
       "      <td>0</td>\n",
       "      <td>0</td>\n",
       "      <td>0</td>\n",
       "      <td>0</td>\n",
       "      <td>0</td>\n",
       "      <td>0</td>\n",
       "      <td>0</td>\n",
       "      <td>...</td>\n",
       "      <td>0</td>\n",
       "      <td>0</td>\n",
       "      <td>0</td>\n",
       "      <td>0</td>\n",
       "      <td>0</td>\n",
       "      <td>0</td>\n",
       "      <td>0</td>\n",
       "      <td>0</td>\n",
       "      <td>0</td>\n",
       "      <td>0</td>\n",
       "    </tr>\n",
       "    <tr>\n",
       "      <td>2</td>\n",
       "      <td>0</td>\n",
       "      <td>0</td>\n",
       "      <td>0</td>\n",
       "      <td>0</td>\n",
       "      <td>0</td>\n",
       "      <td>0</td>\n",
       "      <td>0</td>\n",
       "      <td>0</td>\n",
       "      <td>0</td>\n",
       "      <td>0</td>\n",
       "      <td>...</td>\n",
       "      <td>0</td>\n",
       "      <td>0</td>\n",
       "      <td>0</td>\n",
       "      <td>0</td>\n",
       "      <td>0</td>\n",
       "      <td>0</td>\n",
       "      <td>0</td>\n",
       "      <td>0</td>\n",
       "      <td>0</td>\n",
       "      <td>0</td>\n",
       "    </tr>\n",
       "    <tr>\n",
       "      <td>3</td>\n",
       "      <td>0</td>\n",
       "      <td>0</td>\n",
       "      <td>0</td>\n",
       "      <td>0</td>\n",
       "      <td>0</td>\n",
       "      <td>0</td>\n",
       "      <td>0</td>\n",
       "      <td>0</td>\n",
       "      <td>0</td>\n",
       "      <td>0</td>\n",
       "      <td>...</td>\n",
       "      <td>0</td>\n",
       "      <td>0</td>\n",
       "      <td>0</td>\n",
       "      <td>0</td>\n",
       "      <td>0</td>\n",
       "      <td>0</td>\n",
       "      <td>0</td>\n",
       "      <td>0</td>\n",
       "      <td>0</td>\n",
       "      <td>0</td>\n",
       "    </tr>\n",
       "    <tr>\n",
       "      <td>4</td>\n",
       "      <td>0</td>\n",
       "      <td>0</td>\n",
       "      <td>0</td>\n",
       "      <td>0</td>\n",
       "      <td>0</td>\n",
       "      <td>0</td>\n",
       "      <td>0</td>\n",
       "      <td>0</td>\n",
       "      <td>0</td>\n",
       "      <td>0</td>\n",
       "      <td>...</td>\n",
       "      <td>0</td>\n",
       "      <td>0</td>\n",
       "      <td>0</td>\n",
       "      <td>0</td>\n",
       "      <td>0</td>\n",
       "      <td>0</td>\n",
       "      <td>0</td>\n",
       "      <td>0</td>\n",
       "      <td>0</td>\n",
       "      <td>0</td>\n",
       "    </tr>\n",
       "    <tr>\n",
       "      <td>...</td>\n",
       "      <td>...</td>\n",
       "      <td>...</td>\n",
       "      <td>...</td>\n",
       "      <td>...</td>\n",
       "      <td>...</td>\n",
       "      <td>...</td>\n",
       "      <td>...</td>\n",
       "      <td>...</td>\n",
       "      <td>...</td>\n",
       "      <td>...</td>\n",
       "      <td>...</td>\n",
       "      <td>...</td>\n",
       "      <td>...</td>\n",
       "      <td>...</td>\n",
       "      <td>...</td>\n",
       "      <td>...</td>\n",
       "      <td>...</td>\n",
       "      <td>...</td>\n",
       "      <td>...</td>\n",
       "      <td>...</td>\n",
       "      <td>...</td>\n",
       "    </tr>\n",
       "    <tr>\n",
       "      <td>238319</td>\n",
       "      <td>0</td>\n",
       "      <td>0</td>\n",
       "      <td>0</td>\n",
       "      <td>0</td>\n",
       "      <td>0</td>\n",
       "      <td>0</td>\n",
       "      <td>0</td>\n",
       "      <td>0</td>\n",
       "      <td>0</td>\n",
       "      <td>0</td>\n",
       "      <td>...</td>\n",
       "      <td>0</td>\n",
       "      <td>0</td>\n",
       "      <td>0</td>\n",
       "      <td>0</td>\n",
       "      <td>0</td>\n",
       "      <td>0</td>\n",
       "      <td>0</td>\n",
       "      <td>0</td>\n",
       "      <td>0</td>\n",
       "      <td>0</td>\n",
       "    </tr>\n",
       "    <tr>\n",
       "      <td>238320</td>\n",
       "      <td>0</td>\n",
       "      <td>0</td>\n",
       "      <td>0</td>\n",
       "      <td>0</td>\n",
       "      <td>0</td>\n",
       "      <td>0</td>\n",
       "      <td>0</td>\n",
       "      <td>0</td>\n",
       "      <td>0</td>\n",
       "      <td>0</td>\n",
       "      <td>...</td>\n",
       "      <td>0</td>\n",
       "      <td>0</td>\n",
       "      <td>0</td>\n",
       "      <td>0</td>\n",
       "      <td>0</td>\n",
       "      <td>0</td>\n",
       "      <td>0</td>\n",
       "      <td>0</td>\n",
       "      <td>0</td>\n",
       "      <td>0</td>\n",
       "    </tr>\n",
       "    <tr>\n",
       "      <td>238321</td>\n",
       "      <td>0</td>\n",
       "      <td>0</td>\n",
       "      <td>0</td>\n",
       "      <td>0</td>\n",
       "      <td>0</td>\n",
       "      <td>0</td>\n",
       "      <td>0</td>\n",
       "      <td>0</td>\n",
       "      <td>0</td>\n",
       "      <td>0</td>\n",
       "      <td>...</td>\n",
       "      <td>0</td>\n",
       "      <td>0</td>\n",
       "      <td>0</td>\n",
       "      <td>0</td>\n",
       "      <td>0</td>\n",
       "      <td>0</td>\n",
       "      <td>0</td>\n",
       "      <td>0</td>\n",
       "      <td>0</td>\n",
       "      <td>0</td>\n",
       "    </tr>\n",
       "    <tr>\n",
       "      <td>238322</td>\n",
       "      <td>0</td>\n",
       "      <td>0</td>\n",
       "      <td>0</td>\n",
       "      <td>0</td>\n",
       "      <td>0</td>\n",
       "      <td>0</td>\n",
       "      <td>0</td>\n",
       "      <td>0</td>\n",
       "      <td>0</td>\n",
       "      <td>0</td>\n",
       "      <td>...</td>\n",
       "      <td>0</td>\n",
       "      <td>0</td>\n",
       "      <td>0</td>\n",
       "      <td>0</td>\n",
       "      <td>0</td>\n",
       "      <td>0</td>\n",
       "      <td>0</td>\n",
       "      <td>0</td>\n",
       "      <td>0</td>\n",
       "      <td>0</td>\n",
       "    </tr>\n",
       "    <tr>\n",
       "      <td>238323</td>\n",
       "      <td>0</td>\n",
       "      <td>0</td>\n",
       "      <td>0</td>\n",
       "      <td>0</td>\n",
       "      <td>0</td>\n",
       "      <td>0</td>\n",
       "      <td>0</td>\n",
       "      <td>0</td>\n",
       "      <td>0</td>\n",
       "      <td>0</td>\n",
       "      <td>...</td>\n",
       "      <td>0</td>\n",
       "      <td>0</td>\n",
       "      <td>0</td>\n",
       "      <td>0</td>\n",
       "      <td>0</td>\n",
       "      <td>0</td>\n",
       "      <td>0</td>\n",
       "      <td>0</td>\n",
       "      <td>0</td>\n",
       "      <td>0</td>\n",
       "    </tr>\n",
       "  </tbody>\n",
       "</table>\n",
       "<p>238324 rows × 759045 columns</p>\n",
       "</div>"
      ],
      "text/plain": [
       "        aah sheer  aand focus  aand sugars  aaron pott  abacela continues  \\\n",
       "0               0           0            0           0                  0   \n",
       "1               0           0            0           0                  0   \n",
       "2               0           0            0           0                  0   \n",
       "3               0           0            0           0                  0   \n",
       "4               0           0            0           0                  0   \n",
       "...           ...         ...          ...         ...                ...   \n",
       "238319          0           0            0           0                  0   \n",
       "238320          0           0            0           0                  0   \n",
       "238321          0           0            0           0                  0   \n",
       "238322          0           0            0           0                  0   \n",
       "238323          0           0            0           0                  0   \n",
       "\n",
       "        abacela crafted  abacela evoke  abacela showcases  abacela vineyards  \\\n",
       "0                     0              0                  0                  0   \n",
       "1                     0              0                  0                  0   \n",
       "2                     0              0                  0                  0   \n",
       "3                     0              0                  0                  0   \n",
       "4                     0              0                  0                  0   \n",
       "...                 ...            ...                ...                ...   \n",
       "238319                0              0                  0                  0   \n",
       "238320                0              0                  0                  0   \n",
       "238321                0              0                  0                  0   \n",
       "238322                0              0                  0                  0   \n",
       "238323                0              0                  0                  0   \n",
       "\n",
       "        abacela wines  ...  zweigelt touched  zweigelt varietal  \\\n",
       "0                   0  ...                 0                  0   \n",
       "1                   0  ...                 0                  0   \n",
       "2                   0  ...                 0                  0   \n",
       "3                   0  ...                 0                  0   \n",
       "4                   0  ...                 0                  0   \n",
       "...               ...  ...               ...                ...   \n",
       "238319              0  ...                 0                  0   \n",
       "238320              0  ...                 0                  0   \n",
       "238321              0  ...                 0                  0   \n",
       "238322              0  ...                 0                  0   \n",
       "238323              0  ...                 0                  0   \n",
       "\n",
       "        zweigelt vinified  zweigelt white  zweigelt wine  zweigelt works  \\\n",
       "0                       0               0              0               0   \n",
       "1                       0               0              0               0   \n",
       "2                       0               0              0               0   \n",
       "3                       0               0              0               0   \n",
       "4                       0               0              0               0   \n",
       "...                   ...             ...            ...             ...   \n",
       "238319                  0               0              0               0   \n",
       "238320                  0               0              0               0   \n",
       "238321                  0               0              0               0   \n",
       "238322                  0               0              0               0   \n",
       "238323                  0               0              0               0   \n",
       "\n",
       "        zweigeltan excellent  zweigelts juiciness  zweigelts pepperiness  \\\n",
       "0                          0                    0                      0   \n",
       "1                          0                    0                      0   \n",
       "2                          0                    0                      0   \n",
       "3                          0                    0                      0   \n",
       "4                          0                    0                      0   \n",
       "...                      ...                  ...                    ...   \n",
       "238319                     0                    0                      0   \n",
       "238320                     0                    0                      0   \n",
       "238321                     0                    0                      0   \n",
       "238322                     0                    0                      0   \n",
       "238323                     0                    0                      0   \n",
       "\n",
       "        zwiegelt cabernet  \n",
       "0                       0  \n",
       "1                       0  \n",
       "2                       0  \n",
       "3                       0  \n",
       "4                       0  \n",
       "...                   ...  \n",
       "238319                  0  \n",
       "238320                  0  \n",
       "238321                  0  \n",
       "238322                  0  \n",
       "238323                  0  \n",
       "\n",
       "[238324 rows x 759045 columns]"
      ]
     },
     "execution_count": 22,
     "metadata": {},
     "output_type": "execute_result"
    }
   ],
   "source": [
    "    # you can set the n-gram range to 1,2 to get unigrams as well as bigrams\n",
    "    bv = CountVectorizer(ngram_range=(2,2))\n",
    "    bv_matrix = bv.fit_transform(norm_corpus)\n",
    "\n",
    "    bv_matrix = bv_matrix.toarray()\n",
    "    vocab = bv.get_feature_names()\n",
    "    pd.DataFrame(bv_matrix, columns=vocab)"
   ]
  },
  {
   "cell_type": "code",
   "execution_count": 23,
   "metadata": {},
   "outputs": [],
   "source": [
    "    tv = TfidfVectorizer()\n",
    "    tv_matrix = tv.fit_transform(norm_corpus)"
   ]
  },
  {
   "cell_type": "code",
   "execution_count": 24,
   "metadata": {},
   "outputs": [],
   "source": [
    "    df = pd.DataFrame(tv_matrix.toarray(), columns=tv.get_feature_names())\n",
    "#     df"
   ]
  },
  {
   "cell_type": "code",
   "execution_count": 25,
   "metadata": {},
   "outputs": [],
   "source": [
    "from textblob import TextBlob"
   ]
  },
  {
   "cell_type": "code",
   "execution_count": 26,
   "metadata": {},
   "outputs": [],
   "source": [
    "#     df"
   ]
  },
  {
   "cell_type": "code",
   "execution_count": null,
   "metadata": {},
   "outputs": [],
   "source": []
  },
  {
   "cell_type": "code",
   "execution_count": 80,
   "metadata": {},
   "outputs": [],
   "source": [
    "    sentiments = []\n",
    "    for phrase in norm_corpus:\n",
    "#         print(phrase)\n",
    "        sentiments.append(TextBlob(phrase).sentiment.polarity)\n",
    "\n",
    "    df[\"Sentiment\"] = sentiments"
   ]
  },
  {
   "cell_type": "code",
   "execution_count": 81,
   "metadata": {},
   "outputs": [
    {
     "ename": "NameError",
     "evalue": "name 'sns' is not defined",
     "output_type": "error",
     "traceback": [
      "\u001b[0;31m---------------------------------------------------------------------------\u001b[0m",
      "\u001b[0;31mNameError\u001b[0m                                 Traceback (most recent call last)",
      "\u001b[0;32m<ipython-input-81-8c60c9442801>\u001b[0m in \u001b[0;36m<module>\u001b[0;34m\u001b[0m\n\u001b[1;32m      1\u001b[0m \u001b[0mfig\u001b[0m \u001b[0;34m=\u001b[0m \u001b[0mplt\u001b[0m\u001b[0;34m.\u001b[0m\u001b[0mfigure\u001b[0m\u001b[0;34m(\u001b[0m\u001b[0mfigsize\u001b[0m\u001b[0;34m=\u001b[0m\u001b[0;34m(\u001b[0m\u001b[0;36m8\u001b[0m\u001b[0;34m,\u001b[0m\u001b[0;36m5\u001b[0m\u001b[0;34m)\u001b[0m\u001b[0;34m)\u001b[0m\u001b[0;34m\u001b[0m\u001b[0;34m\u001b[0m\u001b[0m\n\u001b[0;32m----> 2\u001b[0;31m \u001b[0max\u001b[0m \u001b[0;34m=\u001b[0m \u001b[0msns\u001b[0m\u001b[0;34m.\u001b[0m\u001b[0mbarplot\u001b[0m\u001b[0;34m(\u001b[0m\u001b[0mx\u001b[0m\u001b[0;34m=\u001b[0m\u001b[0mdf\u001b[0m\u001b[0;34m.\u001b[0m\u001b[0mSentiment\u001b[0m\u001b[0;34m.\u001b[0m\u001b[0munique\u001b[0m\u001b[0;34m(\u001b[0m\u001b[0;34m)\u001b[0m\u001b[0;34m,\u001b[0m\u001b[0my\u001b[0m\u001b[0;34m=\u001b[0m\u001b[0mdf\u001b[0m\u001b[0;34m.\u001b[0m\u001b[0mSentiment\u001b[0m\u001b[0;34m.\u001b[0m\u001b[0mvalue_counts\u001b[0m\u001b[0;34m(\u001b[0m\u001b[0;34m)\u001b[0m\u001b[0;34m)\u001b[0m\u001b[0;34m;\u001b[0m\u001b[0;34m\u001b[0m\u001b[0;34m\u001b[0m\u001b[0m\n\u001b[0m\u001b[1;32m      3\u001b[0m \u001b[0max\u001b[0m\u001b[0;34m.\u001b[0m\u001b[0mset\u001b[0m\u001b[0;34m(\u001b[0m\u001b[0mxlabel\u001b[0m\u001b[0;34m=\u001b[0m\u001b[0;34m'Labels'\u001b[0m\u001b[0;34m)\u001b[0m\u001b[0;34m\u001b[0m\u001b[0;34m\u001b[0m\u001b[0m\n",
      "\u001b[0;31mNameError\u001b[0m: name 'sns' is not defined"
     ]
    },
    {
     "data": {
      "text/plain": [
       "<Figure size 576x360 with 0 Axes>"
      ]
     },
     "metadata": {},
     "output_type": "display_data"
    }
   ],
   "source": [
    "    fig = plt.figure(figsize=(8,5))\n",
    "    ax = sns.barplot(x=df.Sentiment.unique(),y=df.Sentiment.value_counts());\n",
    "    ax.set(xlabel='Labels')"
   ]
  },
  {
   "cell_type": "code",
   "execution_count": 56,
   "metadata": {},
   "outputs": [],
   "source": [
    "from sklearn.model_selection import train_test_split"
   ]
  },
  {
   "cell_type": "code",
   "execution_count": null,
   "metadata": {},
   "outputs": [],
   "source": []
  },
  {
   "cell_type": "code",
   "execution_count": 31,
   "metadata": {},
   "outputs": [],
   "source": [
    "from nltk.tokenize import RegexpTokenizer"
   ]
  },
  {
   "cell_type": "code",
   "execution_count": 32,
   "metadata": {},
   "outputs": [
    {
     "data": {
      "text/plain": [
       "0         this tremendous      varietal wine hails from ...\n",
       "1         ripe aromas of fig  blackberry and cassis are ...\n",
       "2         mac watson honors the memory of a wine once ma...\n",
       "3         this spent    months in     new french oak  an...\n",
       "4         deep  dense and pure from the opening bell  th...\n",
       "                                ...                        \n",
       "134284    many people feel fiano represents southern ita...\n",
       "134285    offers an intriguing nose with ginger  lime an...\n",
       "134286    this classic example comes from a cru vineyard...\n",
       "134287    a perfect salmon shade  with scents of peaches...\n",
       "134288    more pinot grigios should taste like this  a r...\n",
       "Name: description, Length: 134289, dtype: object"
      ]
     },
     "execution_count": 32,
     "metadata": {},
     "output_type": "execute_result"
    }
   ],
   "source": [
    "    data['description']= data['description'].str.lower()\n",
    "    data['description']= data['description'].apply(lambda elem: re.sub('[^a-zA-Z]',' ', elem))  \n",
    "#     data['description']"
   ]
  },
  {
   "cell_type": "code",
   "execution_count": 33,
   "metadata": {},
   "outputs": [
    {
     "data": {
      "text/plain": [
       "0    [this, tremendous, varietal, wine, hails, from...\n",
       "1    [ripe, aromas, of, fig, blackberry, and, cassi...\n",
       "2    [mac, watson, honors, the, memory, of, a, wine...\n",
       "3    [this, spent, months, in, new, french, oak, an...\n",
       "4    [deep, dense, and, pure, from, the, opening, b...\n",
       "Name: description, dtype: object"
      ]
     },
     "execution_count": 33,
     "metadata": {},
     "output_type": "execute_result"
    }
   ],
   "source": [
    "    tokenizer = RegexpTokenizer(r'\\w+')\n",
    "    words_descriptions = data['description'].apply(tokenizer.tokenize)\n",
    "    words_descriptions.head()"
   ]
  },
  {
   "cell_type": "code",
   "execution_count": 34,
   "metadata": {},
   "outputs": [
    {
     "name": "stdout",
     "output_type": "stream",
     "text": [
      "5576217 words total, with a vocabulary size of 28409\n"
     ]
    }
   ],
   "source": [
    "    all_words = [word for tokens in words_descriptions for word in tokens]\n",
    "    data['description_lengths']= [len(tokens) for tokens in words_descriptions]\n",
    "    VOCAB = sorted(list(set(all_words)))\n",
    "    print(\"%s words total, with a vocabulary size of %s\" % (len(all_words), len(VOCAB)))"
   ]
  },
  {
   "cell_type": "code",
   "execution_count": 36,
   "metadata": {},
   "outputs": [],
   "source": [
    "    ps = PorterStemmer()\n",
    "    words_description = words_descriptions.apply(lambda elem: [word for word in elem if not word in stop_words])\n",
    "    words_descriptions = words_descriptions.apply(lambda elem: [ps.stem(word) for word in elem])\n",
    "    data['description_cleaned'] = words_descriptions.apply(lambda elem: ' '.join(elem))"
   ]
  },
  {
   "cell_type": "code",
   "execution_count": 37,
   "metadata": {},
   "outputs": [],
   "source": [
    "    def prepare_dataframe(vect, data, features=True):\n",
    "        vectorized=vect.fit_transform(data['description_cleaned']).toarray()\n",
    "        vectorized=pd.DataFrame(vectorized)\n",
    "        if features == True:\n",
    "            X=data.drop(columns=['points','Unnamed: 0','description','description_cleaned'])\n",
    "            X=X.fillna(-1)\n",
    "            print(X.columns)\n",
    "            X=pd.concat([X.reset_index(drop=True),vectorized.reset_index(drop=True)],axis=1)\n",
    "            categorical_features_indices =[0,1,3,4,5,6,7,8,9,10]\n",
    "        else:\n",
    "            X=vectorized\n",
    "            categorical_features_indices =[]\n",
    "        y=data['points']\n",
    "        return X,y,categorical_features_indices"
   ]
  },
  {
   "cell_type": "code",
   "execution_count": 69,
   "metadata": {},
   "outputs": [],
   "source": [
    "from sklearn.metrics import classification_report"
   ]
  },
  {
   "cell_type": "code",
   "execution_count": 76,
   "metadata": {},
   "outputs": [],
   "source": [
    "    def perform_model(X_train, y_train,X_valid, y_valid,X_test, y_test,categorical_features_indices,name):\n",
    "        model = CatBoostRegressor(\n",
    "            random_seed = 100,\n",
    "            loss_function = 'RMSE',\n",
    "            iterations=800,\n",
    "        )\n",
    "\n",
    "        model.fit(\n",
    "            X_train, y_train,\n",
    "            cat_features = categorical_features_indices,\n",
    "            verbose=False,\n",
    "            eval_set=(X_valid, y_valid),\n",
    "#             plot=True\n",
    "        )\n",
    "#          # Calculate classification report\n",
    "#         predictions = model.predict(X_test)\n",
    "#         print(classification_report(y_test, predictions,\n",
    "#                                     target_names=categorical_features_indices))\n",
    "\n",
    "        print(name+\" technique RMSE on training data: \"+ model.score(X_train, y_train).astype(str))\n",
    "        print(name+\" technique RMSE on test data: \"+ model.score(X_test, y_test).astype(str))"
   ]
  },
  {
   "cell_type": "code",
   "execution_count": 77,
   "metadata": {},
   "outputs": [],
   "source": [
    "    def prepare_variable(vect, data, features_append=True):\n",
    "        X, y , categorical_features_indices = prepare_dataframe(vect, data,features_append)\n",
    "        X_train, X_test, y_train, y_test = train_test_split(X, y, test_size=0.05, \n",
    "                                                            random_state=42)\n",
    "        X_train, X_valid, y_train, y_valid = train_test_split(X_train, y_train, test_size=0.2, \n",
    "                                                            random_state=52)\n",
    "        return X_train, y_train,X_valid, y_valid,X_test, y_test, categorical_features_indices"
   ]
  },
  {
   "cell_type": "code",
   "execution_count": 78,
   "metadata": {},
   "outputs": [
    {
     "name": "stdout",
     "output_type": "stream",
     "text": [
      "Index(['country', 'designation', 'price', 'province', 'region_1', 'region_2',\n",
      "       'variety', 'winery', 'Red?', 'wineType_encoded', 'Wine_Bins',\n",
      "       'description_lengths'],\n",
      "      dtype='object')\n",
      "Bag of Words Counts technique RMSE on training data: 0.853320784528919\n",
      "Bag of Words Counts technique RMSE on test data: 0.8066914754021643\n"
     ]
    }
   ],
   "source": [
    "    vect= CountVectorizer(analyzer='word', token_pattern=r'\\w+',max_features=500)\n",
    "    training_variable=prepare_variable(vect, data)\n",
    "    perform_model(*training_variable, 'Bag of Words Counts')"
   ]
  },
  {
   "cell_type": "code",
   "execution_count": 79,
   "metadata": {},
   "outputs": [
    {
     "name": "stdout",
     "output_type": "stream",
     "text": [
      "Index(['country', 'designation', 'price', 'province', 'region_1', 'region_2',\n",
      "       'variety', 'winery', 'Red?', 'wineType_encoded', 'Wine_Bins',\n",
      "       'description_lengths'],\n",
      "      dtype='object')\n",
      "TF-IDF technique RMSE on training data: 0.8539422804647329\n",
      "TF-IDF technique RMSE on test data: 0.8052429332061233\n"
     ]
    }
   ],
   "source": [
    "# Term frequency-inverse document frequency\n",
    "vect= TfidfVectorizer(analyzer='word', token_pattern=r'\\w+',max_features=500)\n",
    "training_variable=prepare_variable(vect, data)\n",
    "perform_model(*training_variable, 'TF-IDF')"
   ]
  },
  {
   "cell_type": "code",
   "execution_count": null,
   "metadata": {},
   "outputs": [],
   "source": [
    "# prediction based only on description "
   ]
  },
  {
   "cell_type": "code",
   "execution_count": null,
   "metadata": {},
   "outputs": [],
   "source": [
    "vect= CountVectorizer(analyzer='word', token_pattern=r'\\w+',max_features=500)\n",
    "training_variable=prepare_variable(vect, data, False)\n",
    "perform_model(*training_variable, 'Bag of Words Counts')"
   ]
  },
  {
   "cell_type": "code",
   "execution_count": null,
   "metadata": {},
   "outputs": [],
   "source": [
    "vect= TfidfVectorizer(analyzer='word', token_pattern=r'\\w+',max_features=500)\n",
    "training_variable=prepare_variable(vect, data, False)\n",
    "perform_model(*training_variable, 'TF-IDF')"
   ]
  },
  {
   "cell_type": "code",
   "execution_count": null,
   "metadata": {},
   "outputs": [],
   "source": []
  },
  {
   "cell_type": "code",
   "execution_count": null,
   "metadata": {},
   "outputs": [],
   "source": []
  },
  {
   "cell_type": "code",
   "execution_count": null,
   "metadata": {},
   "outputs": [],
   "source": []
  },
  {
   "cell_type": "code",
   "execution_count": null,
   "metadata": {},
   "outputs": [],
   "source": []
  },
  {
   "cell_type": "code",
   "execution_count": null,
   "metadata": {},
   "outputs": [],
   "source": []
  },
  {
   "cell_type": "code",
   "execution_count": null,
   "metadata": {},
   "outputs": [],
   "source": []
  },
  {
   "cell_type": "code",
   "execution_count": null,
   "metadata": {},
   "outputs": [],
   "source": []
  },
  {
   "cell_type": "code",
   "execution_count": null,
   "metadata": {},
   "outputs": [],
   "source": []
  }
 ],
 "metadata": {
  "kernelspec": {
   "display_name": "Python 3",
   "language": "python",
   "name": "python3"
  },
  "language_info": {
   "codemirror_mode": {
    "name": "ipython",
    "version": 3
   },
   "file_extension": ".py",
   "mimetype": "text/x-python",
   "name": "python",
   "nbconvert_exporter": "python",
   "pygments_lexer": "ipython3",
   "version": "3.7.4"
  }
 },
 "nbformat": 4,
 "nbformat_minor": 2
}
